{
 "cells": [
  {
   "cell_type": "code",
   "execution_count": 13,
   "id": "3daa2e09-8d2e-48ec-b185-db6e6556fe05",
   "metadata": {},
   "outputs": [
    {
     "name": "stdout",
     "output_type": "stream",
     "text": [
      "True\n"
     ]
    }
   ],
   "source": [
    "'''#1. Given an array, check if it contains any duplicates or not.\n",
    "arr = [1, 2, 4, 2, 5, 9]\n",
    "Output = True '''\n",
    "def check(arr):\n",
    "    seen = set()\n",
    "    for i in arr:\n",
    "        if i in seen :\n",
    "            return True\n",
    "        seen.add(i)\\\n",
    "#calling function        \n",
    "arr = [1, 2, 4,2, 5, 9]\n",
    "print (check(arr))"
   ]
  },
  {
   "cell_type": "code",
   "execution_count": 6,
   "id": "63728f15-d211-4eca-9c68-43074791df2f",
   "metadata": {},
   "outputs": [
    {
     "name": "stdout",
     "output_type": "stream",
     "text": [
      "[5, 6, 7, 4, 3, 2, 1]\n"
     ]
    }
   ],
   "source": [
    "'''2. Given an array and an integer k, rotate the array to the right by k steps.\n",
    "arr = [1, 2, 3, 4, 5, 6, 7] k = 3'''\n",
    "def rotate(arr,k):\n",
    "    n = len(arr)\n",
    "    k = k%n # in case  k is greater than array length\n",
    "    #reverse an array \n",
    "    arr.reverse()\n",
    "    #reverse the first k element \n",
    "    arr[:k] = reversed(arr[:k])\n",
    "    #reverse the remaining element\n",
    "    arr[k:] = reversed(arr[k:])\n",
    "    \n",
    "arr = [1, 2, 3, 4, 5, 6, 7]\n",
    "k =3\n",
    "rotate(arr,k)\n",
    "print (arr)"
   ]
  },
  {
   "cell_type": "code",
   "execution_count": 13,
   "id": "e8597224-3565-4918-85a6-ef04c96f80ea",
   "metadata": {},
   "outputs": [
    {
     "data": {
      "text/plain": [
       "[12, 9, 7, 5, 4, 2]"
      ]
     },
     "execution_count": 13,
     "metadata": {},
     "output_type": "execute_result"
    }
   ],
   "source": [
    "'''3. Reverse the given array in-place, means without using any extra data structure.\n",
    "arr = [2, 4, 5, 7, 9, 12]\n",
    "Output = [12, 9, 7, 5, 4, 2]'''\n",
    "arr = [2, 4, 5, 7, 9, 12]\n",
    "#reversing the array\n",
    "arr.reverse()\n",
    "arr"
   ]
  },
  {
   "cell_type": "code",
   "execution_count": 21,
   "id": "9bd14859-6119-4eb2-81ee-11f400e9f481",
   "metadata": {},
   "outputs": [
    {
     "name": "stdout",
     "output_type": "stream",
     "text": [
      "20\n"
     ]
    }
   ],
   "source": [
    "'''#4. Given an array of integers, find the maximum element in an array\n",
    "arr = [10, 5, 20, 8, 15]'''\n",
    "def findMAxi(arr):\n",
    "    #create a new array and sort it and return the last element\n",
    "    newArray = sorted(arr)\n",
    "    return newArray[-1]\n",
    "# printing the result \n",
    "arr = [10, 5, 20, 8, 15]\n",
    "result = findMAxi(arr)\n",
    "print(result)"
   ]
  },
  {
   "cell_type": "code",
   "execution_count": 25,
   "id": "a8c481d2-9c44-4e8d-b123-9f4eeaa647db",
   "metadata": {},
   "outputs": [
    {
     "name": "stdout",
     "output_type": "stream",
     "text": [
      "[1, 2, 3, 4, 5]\n"
     ]
    }
   ],
   "source": [
    "'''5. Given a sorted array, remove the duplicate element without using any extra data structure.\n",
    "arr = [1, 1, 2, 2, 2, 3, 3, 4, 4, 4, 5, 5]\n",
    "Output = [1, 2, 3, 4, 5]'''\n",
    "def removeDup(arr):\n",
    "    i = 0 \n",
    "    for j in range (1, len(arr)):\n",
    "        if arr[i] != arr[j]:\n",
    "            i+=1\n",
    "            arr[i] = arr[j]\n",
    "    return i+1\n",
    "arr = [1, 1, 2, 2, 2, 3, 3, 4, 4, 4, 5, 5]\n",
    "result = removeDup(arr)\n",
    "print(arr[:result])"
   ]
  },
  {
   "cell_type": "code",
   "execution_count": null,
   "id": "57c0098a-16af-4a7b-9e32-6d912b84a41f",
   "metadata": {},
   "outputs": [],
   "source": []
  }
 ],
 "metadata": {
  "kernelspec": {
   "display_name": "Python 3 (ipykernel)",
   "language": "python",
   "name": "python3"
  },
  "language_info": {
   "codemirror_mode": {
    "name": "ipython",
    "version": 3
   },
   "file_extension": ".py",
   "mimetype": "text/x-python",
   "name": "python",
   "nbconvert_exporter": "python",
   "pygments_lexer": "ipython3",
   "version": "3.10.8"
  }
 },
 "nbformat": 4,
 "nbformat_minor": 5
}
